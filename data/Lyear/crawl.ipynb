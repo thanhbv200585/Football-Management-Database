{
 "cells": [
  {
   "cell_type": "markdown",
   "metadata": {},
   "source": [
    "Crawl Data"
   ]
  },
  {
   "cell_type": "code",
   "execution_count": 1,
   "metadata": {},
   "outputs": [],
   "source": [
    "import requests\n",
    "import pandas as pd\n",
    "from bs4 import BeautifulSoup\n",
    "import numpy as np"
   ]
  },
  {
   "cell_type": "code",
   "execution_count": 4,
   "metadata": {},
   "outputs": [],
   "source": [
    "standings_urls = [\"https://fbref.com/en/comps/9/history/Premier-League-Seasons\",\n",
    "        \"https://fbref.com/en/comps/11/history/Serie-A-Seasons\",\n",
    "        \"https://fbref.com/en/comps/12/history/La-Liga-Seasons\",\n",
    "        \"https://fbref.com/en/comps/13/history/Ligue-1-Seasons\",\n",
    "        \"https://fbref.com/en/comps/20/history/Bundesliga-Seasons\"]\n",
    "leagues =  pd.read_excel('./../Club_name.xlsx')"
   ]
  },
  {
   "cell_type": "code",
   "execution_count": 86,
   "metadata": {},
   "outputs": [],
   "source": [
    "def clean(table, league_name):\n",
    "    c = pd.DataFrame([year.split(' - ') for year in table['Champion'] if not isinstance(year, float)] , columns=['Champion', 'Points'])\n",
    "    s = pd.DataFrame([year.split(' - ') for year in table['Top Scorer'] if not isinstance(year, float)], columns=['Name', \"Goals\"])\n",
    "    table = table.drop(columns=['Competition Name', 'Champion', 'Top Scorer'])\n",
    "    table.insert(2, 'Champion', c['Champion'], True)\n",
    "    table.insert(3, 'Points', c['Points'], True)\n",
    "    table.insert(4, 'Top Scorer Name', s['Name'], True)\n",
    "    table.insert(5, 'Goals', s['Goals'], True)\n",
    "    return table"
   ]
  },
  {
   "cell_type": "code",
   "execution_count": 96,
   "metadata": {},
   "outputs": [
    {
     "name": "stdout",
     "output_type": "stream",
     "text": [
      "        Season                Competition Name  # Squads  \\\n",
      "0    2022-2023                  Premier League        20   \n",
      "1    2021-2022                  Premier League        20   \n",
      "2    2020-2021                  Premier League        20   \n",
      "3    2019-2020                  Premier League        20   \n",
      "4    2018-2019                  Premier League        20   \n",
      "..         ...                             ...       ...   \n",
      "119  1892-1893  Football League First Division        16   \n",
      "120  1891-1892                 Football League        14   \n",
      "121  1890-1891                 Football League        12   \n",
      "122  1889-1890                 Football League        12   \n",
      "123  1888-1889                 Football League        12   \n",
      "\n",
      "                   Champion                                     Top Scorer  \n",
      "0                       NaN                            Erling Haaland - 25  \n",
      "1      Manchester City - 93              Son Heung-min, Mohamed Salah - 23  \n",
      "2      Manchester City - 86                                Harry Kane - 23  \n",
      "3            Liverpool - 99                               Jamie Vardy - 23  \n",
      "4      Manchester City - 98  Pierre-Emerick Aubameyang, Sadio Mané... - 22  \n",
      "..                      ...                                            ...  \n",
      "119         Sunderland - 48                                            NaN  \n",
      "120         Sunderland - 42                                            NaN  \n",
      "121            Everton - 29                                            NaN  \n",
      "122  Preston North End - 33                                            NaN  \n",
      "123  Preston North End - 40                                            NaN  \n",
      "\n",
      "[124 rows x 5 columns]\n"
     ]
    },
    {
     "data": {
      "text/html": [
       "<div>\n",
       "<style scoped>\n",
       "    .dataframe tbody tr th:only-of-type {\n",
       "        vertical-align: middle;\n",
       "    }\n",
       "\n",
       "    .dataframe tbody tr th {\n",
       "        vertical-align: top;\n",
       "    }\n",
       "\n",
       "    .dataframe thead th {\n",
       "        text-align: right;\n",
       "    }\n",
       "</style>\n",
       "<table border=\"1\" class=\"dataframe\">\n",
       "  <thead>\n",
       "    <tr style=\"text-align: right;\">\n",
       "      <th></th>\n",
       "      <th>Season</th>\n",
       "      <th># Squads</th>\n",
       "      <th>Champion</th>\n",
       "      <th>Points</th>\n",
       "      <th>Top Scorer Name</th>\n",
       "      <th>Goals</th>\n",
       "    </tr>\n",
       "  </thead>\n",
       "  <tbody>\n",
       "  </tbody>\n",
       "</table>\n",
       "</div>"
      ],
      "text/plain": [
       "Empty DataFrame\n",
       "Columns: [Season, # Squads, Champion, Points, Top Scorer Name, Goals]\n",
       "Index: []"
      ]
     },
     "execution_count": 96,
     "metadata": {},
     "output_type": "execute_result"
    }
   ],
   "source": [
    "winners = pd.DataFrame(columns=['Season', '# Squads', 'Champion', 'Points', 'Top Scorer Name', 'Goals'])\n",
    "for standings_url, league in zip(standings_urls, leagues):\n",
    "    data = requests.get(standings_url) # data.text is html file\n",
    "    standing = pd.read_html(data.text, attrs={'class': 'stats_table'})[0]\n",
    "    print(standing)\n",
    "    break\n",
    "    winners = pd.concat([winners, clean(standing, league)])\n",
    "winners"
   ]
  },
  {
   "cell_type": "code",
   "execution_count": 95,
   "metadata": {},
   "outputs": [],
   "source": [
    "winners.to_csv('./Lyear.csv', index=False)"
   ]
  },
  {
   "cell_type": "code",
   "execution_count": null,
   "metadata": {},
   "outputs": [],
   "source": []
  }
 ],
 "metadata": {
  "kernelspec": {
   "display_name": "Python 3",
   "language": "python",
   "name": "python3"
  },
  "language_info": {
   "codemirror_mode": {
    "name": "ipython",
    "version": 3
   },
   "file_extension": ".py",
   "mimetype": "text/x-python",
   "name": "python",
   "nbconvert_exporter": "python",
   "pygments_lexer": "ipython3",
   "version": "3.10.5"
  },
  "orig_nbformat": 4,
  "vscode": {
   "interpreter": {
    "hash": "26de051ba29f2982a8de78e945f0abaf191376122a1563185a90213a26c5da77"
   }
  }
 },
 "nbformat": 4,
 "nbformat_minor": 2
}
