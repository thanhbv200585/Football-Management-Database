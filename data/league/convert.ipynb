{
 "cells": [
  {
   "cell_type": "code",
   "execution_count": 1,
   "metadata": {},
   "outputs": [
    {
     "name": "stdout",
     "output_type": "stream",
     "text": [
      "    1  English Premier League   1888-1889    Manchester United\n",
      "0   2                 La Liga   1929-1930         Real Mardrid\n",
      "1   3              Bundesliga   1903-1904        Bayern Munich\n",
      "2   4                 Serie A   1898-1899             Juventus\n",
      "3   5                 Ligue 1  1930 -1931  Paris Saint-Germain\n",
      "4   6           Primeira Liga   1934-1935              Benfica\n",
      "5   7  Russian Premier League   1992-1993       Spartak Moscow\n",
      "6   8               Süper Lig   1959-1960          Galatasaray\n",
      "7   9            Super League   1905-1906           Olympiacos\n",
      "8  10              Eredivisie   1956-1957                 Ajax\n"
     ]
    }
   ],
   "source": [
    "import pandas as pd"
   ]
  },
  {
   "cell_type": "code",
   "execution_count": 3,
   "metadata": {},
   "outputs": [
    {
     "name": "stdout",
     "output_type": "stream",
     "text": [
      "    1  English Premier League   1888-1889    Manchester United\n",
      "0   2                 La Liga   1929-1930         Real Mardrid\n",
      "1   3              Bundesliga   1903-1904        Bayern Munich\n",
      "2   4                 Serie A   1898-1899             Juventus\n",
      "3   5                 Ligue 1  1930 -1931  Paris Saint-Germain\n",
      "4   6           Primeira Liga   1934-1935              Benfica\n",
      "5   7  Russian Premier League   1992-1993       Spartak Moscow\n",
      "6   8               Süper Lig   1959-1960          Galatasaray\n",
      "7   9            Super League   1905-1906           Olympiacos\n",
      "8  10              Eredivisie   1956-1957                 Ajax\n"
     ]
    }
   ],
   "source": [
    "df = pd.read_excel('./League.xlsx')\n",
    "print(df)\n",
    "df.to_csv('./League.csv', index=False)"
   ]
  },
  {
   "cell_type": "markdown",
   "metadata": {},
   "source": [
    "Crawl Data"
   ]
  },
  {
   "cell_type": "markdown",
   "metadata": {},
   "source": [
    "Crawl Data"
   ]
  },
  {
   "cell_type": "code",
   "execution_count": null,
   "metadata": {},
   "outputs": [],
   "source": [
    "import requests\n",
    "import pandas as pd\n",
    "from bs4 import BeautifulSoup\n",
    "import numpy as np"
   ]
  },
  {
   "cell_type": "code",
   "execution_count": null,
   "metadata": {},
   "outputs": [
    {
     "name": "stdout",
     "output_type": "stream",
     "text": [
      "<Response [200]>\n"
     ]
    }
   ],
   "source": [
    "standings_url = \"https://fbref.com/en/comps/20/Bundesliga-Stats\"\n",
    "data = requests.get(standings_url) # data.text is html file\n",
    "print(data)"
   ]
  },
  {
   "cell_type": "code",
   "execution_count": null,
   "metadata": {},
   "outputs": [],
   "source": [
    "soup = BeautifulSoup(data.text)\n",
    "standings_table = soup.select('table.stats_table')[0]\n",
    "links = standings_table.find_all('a')\n",
    "links = [l.get(\"href\") for l in links]\n",
    "links = [l for l in links if '/squads/' in l]"
   ]
  },
  {
   "cell_type": "code",
   "execution_count": null,
   "metadata": {},
   "outputs": [],
   "source": [
    "standing = pd.read_html(data.text, attrs={'class': 'stats_table'})[0]"
   ]
  },
  {
   "cell_type": "code",
   "execution_count": null,
   "metadata": {},
   "outputs": [
    {
     "name": "stdout",
     "output_type": "stream",
     "text": [
      "0       Union Berlin\n",
      "1      Bayern Munich\n",
      "2           Dortmund\n",
      "3         RB Leipzig\n",
      "4     Eint Frankfurt\n",
      "5           Freiburg\n",
      "6          Wolfsburg\n",
      "7         M'Gladbach\n",
      "8         Leverkusen\n",
      "9      Werder Bremen\n",
      "10             KÃ¶ln\n",
      "11          Mainz 05\n",
      "12          Augsburg\n",
      "13        Hoffenheim\n",
      "14            Bochum\n",
      "15         Stuttgart\n",
      "16        Hertha BSC\n",
      "17        Schalke 04\n",
      "18               NaN\n",
      "19               NaN\n",
      "Name: Bundesliga, dtype: object\n",
      "['https://fbref.com/en/squads/7a41008f/Union-Berlin-Stats', 'https://fbref.com/en/squads/054efa67/Bayern-Munich-Stats', 'https://fbref.com/en/squads/add600ae/Dortmund-Stats', 'https://fbref.com/en/squads/acbb6a5b/RB-Leipzig-Stats', 'https://fbref.com/en/squads/f0ac8ee6/Eintracht-Frankfurt-Stats', 'https://fbref.com/en/squads/a486e511/Freiburg-Stats', 'https://fbref.com/en/squads/4eaa11d7/Wolfsburg-Stats', 'https://fbref.com/en/squads/32f3ee20/Monchengladbach-Stats', 'https://fbref.com/en/squads/c7a9f859/Bayer-Leverkusen-Stats', 'https://fbref.com/en/squads/62add3bf/Werder-Bremen-Stats', 'https://fbref.com/en/squads/bc357bf7/Koln-Stats', 'https://fbref.com/en/squads/a224b06a/Mainz-05-Stats', 'https://fbref.com/en/squads/0cdc4311/Augsburg-Stats', 'https://fbref.com/en/squads/033ea6b8/Hoffenheim-Stats', 'https://fbref.com/en/squads/b42c6323/Bochum-Stats', 'https://fbref.com/en/squads/598bc722/Stuttgart-Stats', 'https://fbref.com/en/squads/2818f8bc/Hertha-BSC-Stats', 'https://fbref.com/en/squads/c539e393/Schalke-04-Stats']\n"
     ]
    }
   ],
   "source": [
    "team_urls = [f\"https://fbref.com{l}\" for l in links]\n",
    "team_names = pd.read_excel('./passing.xlsx')\n",
    "team_name = team_names['Bundesliga']\n",
    "print(team_name)\n",
    "print(team_urls)"
   ]
  },
  {
   "cell_type": "code",
   "execution_count": null,
   "metadata": {},
   "outputs": [],
   "source": [
    "def clean(table, league_name):\n",
    "    t = table[np.logical_and(table['Comp'] == league_name, table['Venue'] == 'Home')]\n",
    "    t = t[['Venue', 'GF', 'GA', 'Opponent', 'Attendance', 'Referee']]\n",
    "    t = t.dropna()\n",
    "    t['GF'], t['GA'], t['Attendance'] = [t[col].astype(np.int32) for col in ['GF', 'GA', 'Attendance']]\n",
    "    score = ['\\'' + t.loc[r, 'GF'].astype(str) + ' - ' +  t.loc[r, 'GA'].astype(str) \\\n",
    "        if t.loc[r, 'Venue'] == 'Home' else '\\''+ t.loc[r, 'GA'].astype(str) + ' - ' + t.loc[r, 'GF'].astype(str) \\\n",
    "        for r in t.index ]\n",
    "    t.insert(4, 'Score', score, True)\n",
    "    t = t.drop(columns=['GA', 'GF'])\n",
    "    return t"
   ]
  },
  {
   "cell_type": "code",
   "execution_count": null,
   "metadata": {},
   "outputs": [
    {
     "name": "stdout",
     "output_type": "stream",
     "text": [
      "            Team Venue       Opponent   Score Attendance              Referee\n",
      "1   Union Berlin  Home     Hertha BSC  '3 - 1      22012          Marco Fritz\n",
      "3   Union Berlin  Home     RB Leipzig  '2 - 1      21056        Deniz Aytekin\n",
      "5   Union Berlin  Home  Bayern Munich  '1 - 1      22012     Frank Willenborg\n",
      "9   Union Berlin  Home      Wolfsburg  '2 - 0      22012      Robert Schröder\n",
      "14  Union Berlin  Home       Dortmund  '2 - 0      22012       Tobias Stieler\n",
      "..           ...   ...            ...     ...        ...                  ...\n",
      "13    Schalke 04  Home       Freiburg  '0 - 2      61115    Christian Dingert\n",
      "15    Schalke 04  Home       Mainz 05  '1 - 0      58256       Tobias Reichel\n",
      "16    Schalke 04  Home  Bayern Munich  '0 - 2      62271         Felix Zwayer\n",
      "18    Schalke 04  Home     RB Leipzig  '1 - 6      56841      Benjamin Cortus\n",
      "19    Schalke 04  Home           Köln  '0 - 0      61571  Matthias Jöllenbeck\n",
      "\n",
      "[166 rows x 6 columns]\n"
     ]
    }
   ],
   "source": [
    "matches = pd.DataFrame(columns=['Team','Venue', 'Opponent', 'Score', 'Attendance', 'Referee'])\n",
    "for i, (l, team) in enumerate(zip(team_urls, team_name)):\n",
    "    if i == len(team_urls):\n",
    "        break\n",
    "    d = requests.get(l)\n",
    "    match = clean(pd.read_html(d.text, match = \"Scores & Fixtures\")[0], 'Bundesliga')\n",
    "    match.insert(0, 'Team', team, True)\n",
    "    # print(match)\n",
    "    # break\n",
    "    matches = pd.concat([matches, match])\n",
    "print(matches)"
   ]
  },
  {
   "cell_type": "code",
   "execution_count": null,
   "metadata": {},
   "outputs": [],
   "source": [
    "matches.to_csv('./matches4.csv')"
   ]
  },
  {
   "cell_type": "code",
   "execution_count": null,
   "metadata": {},
   "outputs": [
    {
     "name": "stdout",
     "output_type": "stream",
     "text": [
      "           Team Venue        Opponent   Score Attendance              Referee  \\\n",
      "0       Arsenal  Home  Leicester City  '4 - 2      60033       Darren England   \n",
      "1       Arsenal  Home          Fulham  '2 - 1      60164       Jarred Gillett   \n",
      "2       Arsenal  Home     Aston Villa  '2 - 1      60012         Robert Jones   \n",
      "3       Arsenal  Home       Tottenham  '3 - 1      60278       Anthony Taylor   \n",
      "4       Arsenal  Home       Liverpool  '3 - 2      60059       Michael Oliver   \n",
      "..          ...   ...             ...     ...        ...                  ...   \n",
      "161  Schalke 04  Home        Freiburg  '0 - 2      61115    Christian Dingert   \n",
      "162  Schalke 04  Home        Mainz 05  '1 - 0      58256       Tobias Reichel   \n",
      "163  Schalke 04  Home   Bayern Munich  '0 - 2      62271         Felix Zwayer   \n",
      "164  Schalke 04  Home      RB Leipzig  '1 - 6      56841      Benjamin Cortus   \n",
      "165  Schalke 04  Home            Köln  '0 - 0      61571  Matthias Jöllenbeck   \n",
      "\n",
      "     Unnamed: 0  \n",
      "0           1.0  \n",
      "1           3.0  \n",
      "2           4.0  \n",
      "3           9.0  \n",
      "4          11.0  \n",
      "..          ...  \n",
      "161        13.0  \n",
      "162        15.0  \n",
      "163        16.0  \n",
      "164        18.0  \n",
      "165        19.0  \n",
      "\n",
      "[959 rows x 7 columns]\n"
     ]
    }
   ],
   "source": [
    "matches1 = pd.DataFrame(columns=['Team','Venue', 'Opponent', 'Score', 'Attendance', 'Referee'])\n",
    "\n",
    "matches1 = pd.concat([matches1, pd.read_csv('./matches0.csv')])\n",
    "matches1 = pd.concat([matches1, pd.read_csv('./matches1.csv')])\n",
    "matches1 = pd.concat([matches1, pd.read_csv('./matches2.csv')])\n",
    "matches1 = pd.concat([matches1, pd.read_csv('./matches3.csv')])\n",
    "matches1 = pd.concat([matches1, pd.read_csv('./matches4.csv')])\n",
    "\n",
    "print(matches1)\n",
    "matches1.to_csv('./matches5.csv')"
   ]
  },
  {
   "cell_type": "code",
   "execution_count": null,
   "metadata": {},
   "outputs": [],
   "source": [
    "import requests\n",
    "import pandas as pd\n",
    "from bs4 import BeautifulSoup\n",
    "import numpy as np"
   ]
  },
  {
   "cell_type": "code",
   "execution_count": null,
   "metadata": {},
   "outputs": [
    {
     "name": "stdout",
     "output_type": "stream",
     "text": [
      "<Response [200]>\n"
     ]
    }
   ],
   "source": [
    "standings_url = \"https://fbref.com/en/comps/20/Bundesliga-Stats\"\n",
    "data = requests.get(standings_url) # data.text is html file\n",
    "print(data)"
   ]
  },
  {
   "cell_type": "code",
   "execution_count": null,
   "metadata": {},
   "outputs": [],
   "source": [
    "soup = BeautifulSoup(data.text)\n",
    "standings_table = soup.select('table.stats_table')[0]\n",
    "links = standings_table.find_all('a')\n",
    "links = [l.get(\"href\") for l in links]\n",
    "links = [l for l in links if '/squads/' in l]"
   ]
  },
  {
   "cell_type": "code",
   "execution_count": null,
   "metadata": {},
   "outputs": [],
   "source": [
    "standing = pd.read_html(data.text, attrs={'class': 'stats_table'})[0]"
   ]
  },
  {
   "cell_type": "code",
   "execution_count": null,
   "metadata": {},
   "outputs": [
    {
     "name": "stdout",
     "output_type": "stream",
     "text": [
      "0       Union Berlin\n",
      "1      Bayern Munich\n",
      "2           Dortmund\n",
      "3         RB Leipzig\n",
      "4     Eint Frankfurt\n",
      "5           Freiburg\n",
      "6          Wolfsburg\n",
      "7         M'Gladbach\n",
      "8         Leverkusen\n",
      "9      Werder Bremen\n",
      "10             KÃ¶ln\n",
      "11          Mainz 05\n",
      "12          Augsburg\n",
      "13        Hoffenheim\n",
      "14            Bochum\n",
      "15         Stuttgart\n",
      "16        Hertha BSC\n",
      "17        Schalke 04\n",
      "18               NaN\n",
      "19               NaN\n",
      "Name: Bundesliga, dtype: object\n",
      "['https://fbref.com/en/squads/7a41008f/Union-Berlin-Stats', 'https://fbref.com/en/squads/054efa67/Bayern-Munich-Stats', 'https://fbref.com/en/squads/add600ae/Dortmund-Stats', 'https://fbref.com/en/squads/acbb6a5b/RB-Leipzig-Stats', 'https://fbref.com/en/squads/f0ac8ee6/Eintracht-Frankfurt-Stats', 'https://fbref.com/en/squads/a486e511/Freiburg-Stats', 'https://fbref.com/en/squads/4eaa11d7/Wolfsburg-Stats', 'https://fbref.com/en/squads/32f3ee20/Monchengladbach-Stats', 'https://fbref.com/en/squads/c7a9f859/Bayer-Leverkusen-Stats', 'https://fbref.com/en/squads/62add3bf/Werder-Bremen-Stats', 'https://fbref.com/en/squads/bc357bf7/Koln-Stats', 'https://fbref.com/en/squads/a224b06a/Mainz-05-Stats', 'https://fbref.com/en/squads/0cdc4311/Augsburg-Stats', 'https://fbref.com/en/squads/033ea6b8/Hoffenheim-Stats', 'https://fbref.com/en/squads/b42c6323/Bochum-Stats', 'https://fbref.com/en/squads/598bc722/Stuttgart-Stats', 'https://fbref.com/en/squads/2818f8bc/Hertha-BSC-Stats', 'https://fbref.com/en/squads/c539e393/Schalke-04-Stats']\n"
     ]
    }
   ],
   "source": [
    "team_urls = [f\"https://fbref.com{l}\" for l in links]\n",
    "team_names = pd.read_excel('./passing.xlsx')\n",
    "team_name = team_names['Bundesliga']\n",
    "print(team_name)\n",
    "print(team_urls)"
   ]
  },
  {
   "cell_type": "code",
   "execution_count": null,
   "metadata": {},
   "outputs": [],
   "source": [
    "def clean(table, league_name):\n",
    "    t = table[np.logical_and(table['Comp'] == league_name, table['Venue'] == 'Home')]\n",
    "    t = t[['Venue', 'GF', 'GA', 'Opponent', 'Attendance', 'Referee']]\n",
    "    t = t.dropna()\n",
    "    t['GF'], t['GA'], t['Attendance'] = [t[col].astype(np.int32) for col in ['GF', 'GA', 'Attendance']]\n",
    "    score = ['\\'' + t.loc[r, 'GF'].astype(str) + ' - ' +  t.loc[r, 'GA'].astype(str) \\\n",
    "        if t.loc[r, 'Venue'] == 'Home' else '\\''+ t.loc[r, 'GA'].astype(str) + ' - ' + t.loc[r, 'GF'].astype(str) \\\n",
    "        for r in t.index ]\n",
    "    t.insert(4, 'Score', score, True)\n",
    "    t = t.drop(columns=['GA', 'GF'])\n",
    "    return t"
   ]
  },
  {
   "cell_type": "code",
   "execution_count": null,
   "metadata": {},
   "outputs": [
    {
     "name": "stdout",
     "output_type": "stream",
     "text": [
      "            Team Venue       Opponent   Score Attendance              Referee\n",
      "1   Union Berlin  Home     Hertha BSC  '3 - 1      22012          Marco Fritz\n",
      "3   Union Berlin  Home     RB Leipzig  '2 - 1      21056        Deniz Aytekin\n",
      "5   Union Berlin  Home  Bayern Munich  '1 - 1      22012     Frank Willenborg\n",
      "9   Union Berlin  Home      Wolfsburg  '2 - 0      22012      Robert Schröder\n",
      "14  Union Berlin  Home       Dortmund  '2 - 0      22012       Tobias Stieler\n",
      "..           ...   ...            ...     ...        ...                  ...\n",
      "13    Schalke 04  Home       Freiburg  '0 - 2      61115    Christian Dingert\n",
      "15    Schalke 04  Home       Mainz 05  '1 - 0      58256       Tobias Reichel\n",
      "16    Schalke 04  Home  Bayern Munich  '0 - 2      62271         Felix Zwayer\n",
      "18    Schalke 04  Home     RB Leipzig  '1 - 6      56841      Benjamin Cortus\n",
      "19    Schalke 04  Home           Köln  '0 - 0      61571  Matthias Jöllenbeck\n",
      "\n",
      "[166 rows x 6 columns]\n"
     ]
    }
   ],
   "source": [
    "matches = pd.DataFrame(columns=['Team','Venue', 'Opponent', 'Score', 'Attendance', 'Referee'])\n",
    "for i, (l, team) in enumerate(zip(team_urls, team_name)):\n",
    "    if i == len(team_urls):\n",
    "        break\n",
    "    d = requests.get(l)\n",
    "    match = clean(pd.read_html(d.text, match = \"Scores & Fixtures\")[0], 'Bundesliga')\n",
    "    match.insert(0, 'Team', team, True)\n",
    "    # print(match)\n",
    "    # break\n",
    "    matches = pd.concat([matches, match])\n",
    "print(matches)"
   ]
  },
  {
   "cell_type": "code",
   "execution_count": null,
   "metadata": {},
   "outputs": [],
   "source": [
    "matches.to_csv('./matches4.csv')"
   ]
  },
  {
   "cell_type": "code",
   "execution_count": null,
   "metadata": {},
   "outputs": [
    {
     "name": "stdout",
     "output_type": "stream",
     "text": [
      "           Team Venue        Opponent   Score Attendance              Referee  \\\n",
      "0       Arsenal  Home  Leicester City  '4 - 2      60033       Darren England   \n",
      "1       Arsenal  Home          Fulham  '2 - 1      60164       Jarred Gillett   \n",
      "2       Arsenal  Home     Aston Villa  '2 - 1      60012         Robert Jones   \n",
      "3       Arsenal  Home       Tottenham  '3 - 1      60278       Anthony Taylor   \n",
      "4       Arsenal  Home       Liverpool  '3 - 2      60059       Michael Oliver   \n",
      "..          ...   ...             ...     ...        ...                  ...   \n",
      "161  Schalke 04  Home        Freiburg  '0 - 2      61115    Christian Dingert   \n",
      "162  Schalke 04  Home        Mainz 05  '1 - 0      58256       Tobias Reichel   \n",
      "163  Schalke 04  Home   Bayern Munich  '0 - 2      62271         Felix Zwayer   \n",
      "164  Schalke 04  Home      RB Leipzig  '1 - 6      56841      Benjamin Cortus   \n",
      "165  Schalke 04  Home            Köln  '0 - 0      61571  Matthias Jöllenbeck   \n",
      "\n",
      "     Unnamed: 0  \n",
      "0           1.0  \n",
      "1           3.0  \n",
      "2           4.0  \n",
      "3           9.0  \n",
      "4          11.0  \n",
      "..          ...  \n",
      "161        13.0  \n",
      "162        15.0  \n",
      "163        16.0  \n",
      "164        18.0  \n",
      "165        19.0  \n",
      "\n",
      "[959 rows x 7 columns]\n"
     ]
    }
   ],
   "source": [
    "matches1 = pd.DataFrame(columns=['Team','Venue', 'Opponent', 'Score', 'Attendance', 'Referee'])\n",
    "\n",
    "matches1 = pd.concat([matches1, pd.read_csv('./matches0.csv')])\n",
    "matches1 = pd.concat([matches1, pd.read_csv('./matches1.csv')])\n",
    "matches1 = pd.concat([matches1, pd.read_csv('./matches2.csv')])\n",
    "matches1 = pd.concat([matches1, pd.read_csv('./matches3.csv')])\n",
    "matches1 = pd.concat([matches1, pd.read_csv('./matches4.csv')])\n",
    "\n",
    "print(matches1)\n",
    "matches1.to_csv('./matches5.csv')"
   ]
  }
 ],
 "metadata": {
  "kernelspec": {
   "display_name": "Python 3",
   "language": "python",
   "name": "python3"
  },
  "language_info": {
   "codemirror_mode": {
    "name": "ipython",
    "version": 3
   },
   "file_extension": ".py",
   "mimetype": "text/x-python",
   "name": "python",
   "nbconvert_exporter": "python",
   "pygments_lexer": "ipython3",
   "version": "3.10.5"
  },
  "orig_nbformat": 4,
  "vscode": {
   "interpreter": {
    "hash": "26de051ba29f2982a8de78e945f0abaf191376122a1563185a90213a26c5da77"
   }
  }
 },
 "nbformat": 4,
 "nbformat_minor": 2
}
