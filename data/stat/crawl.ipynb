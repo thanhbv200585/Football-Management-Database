{
 "cells": [
  {
   "cell_type": "code",
   "execution_count": 1,
   "metadata": {},
   "outputs": [],
   "source": [
    "import numpy as np\n",
    "import pandas as pd\n",
    "import requests\n",
    "from bs4 import BeautifulSoup"
   ]
  },
  {
   "cell_type": "code",
   "execution_count": 2,
   "metadata": {},
   "outputs": [],
   "source": [
    "standings_urls = [\"https://fbref.com/en/comps/9/Premier-League-Stats\",\n",
    "    \"https://fbref.com/en/comps/11/Serie-A-Stats\",\n",
    "    \"https://fbref.com/en/comps/12/La-Liga-Stats\",\n",
    "    \"https://fbref.com/en/comps/13/Ligue-1-Stats\",\n",
    "    \"https://fbref.com/en/comps/20/Bundesliga-Stats\"]\n",
    "\n",
    "leagues =  pd.read_excel('./../Club_name.xlsx')\n",
    "match_urls = []\n",
    "temp = []"
   ]
  },
  {
   "cell_type": "code",
   "execution_count": 3,
   "metadata": {},
   "outputs": [
    {
     "data": {
      "text/html": [
       "<div>\n",
       "<style scoped>\n",
       "    .dataframe tbody tr th:only-of-type {\n",
       "        vertical-align: middle;\n",
       "    }\n",
       "\n",
       "    .dataframe tbody tr th {\n",
       "        vertical-align: top;\n",
       "    }\n",
       "\n",
       "    .dataframe thead th {\n",
       "        text-align: right;\n",
       "    }\n",
       "</style>\n",
       "<table border=\"1\" class=\"dataframe\">\n",
       "  <thead>\n",
       "    <tr style=\"text-align: right;\">\n",
       "      <th></th>\n",
       "      <th>Premier League</th>\n",
       "      <th>Serie A</th>\n",
       "      <th>La Liga</th>\n",
       "      <th>Ligue 1</th>\n",
       "      <th>Bundesliga</th>\n",
       "    </tr>\n",
       "  </thead>\n",
       "  <tbody>\n",
       "    <tr>\n",
       "      <th>0</th>\n",
       "      <td>Arsenal</td>\n",
       "      <td>Napoli</td>\n",
       "      <td>Barcelona</td>\n",
       "      <td>Paris S-G</td>\n",
       "      <td>Bayern Munich</td>\n",
       "    </tr>\n",
       "    <tr>\n",
       "      <th>1</th>\n",
       "      <td>Manchester City</td>\n",
       "      <td>Inter</td>\n",
       "      <td>Real Madrid</td>\n",
       "      <td>Marseille</td>\n",
       "      <td>Union Berlin</td>\n",
       "    </tr>\n",
       "    <tr>\n",
       "      <th>2</th>\n",
       "      <td>Manchester Utd</td>\n",
       "      <td>Roma</td>\n",
       "      <td>Real Sociedad</td>\n",
       "      <td>Lens</td>\n",
       "      <td>Dortmund</td>\n",
       "    </tr>\n",
       "    <tr>\n",
       "      <th>3</th>\n",
       "      <td>Newcastle Utd</td>\n",
       "      <td>Lazio</td>\n",
       "      <td>AtlÃ©tico Madrid</td>\n",
       "      <td>Monaco</td>\n",
       "      <td>RB Leipzig</td>\n",
       "    </tr>\n",
       "    <tr>\n",
       "      <th>4</th>\n",
       "      <td>Tottenham</td>\n",
       "      <td>Atalanta</td>\n",
       "      <td>Rayo Vallecano</td>\n",
       "      <td>Rennes</td>\n",
       "      <td>Eint Frankfurt</td>\n",
       "    </tr>\n",
       "  </tbody>\n",
       "</table>\n",
       "</div>"
      ],
      "text/plain": [
       "    Premier League   Serie A           La Liga    Ligue 1      Bundesliga\n",
       "0          Arsenal    Napoli         Barcelona  Paris S-G   Bayern Munich\n",
       "1  Manchester City     Inter       Real Madrid  Marseille    Union Berlin\n",
       "2   Manchester Utd      Roma     Real Sociedad       Lens        Dortmund\n",
       "3    Newcastle Utd     Lazio  AtlÃ©tico Madrid     Monaco      RB Leipzig\n",
       "4        Tottenham  Atalanta    Rayo Vallecano     Rennes  Eint Frankfurt"
      ]
     },
     "execution_count": 3,
     "metadata": {},
     "output_type": "execute_result"
    }
   ],
   "source": [
    "leagues.head()"
   ]
  },
  {
   "cell_type": "code",
   "execution_count": 4,
   "metadata": {},
   "outputs": [],
   "source": [
    "count = 0"
   ]
  },
  {
   "cell_type": "code",
   "execution_count": 5,
   "metadata": {},
   "outputs": [],
   "source": [
    "def get_match_url(rows, league):\n",
    "    rows = [row for row in rows if row.find_all('td')[4].get_text() =='Home']\n",
    "    rows = [row for row in rows if row.find_all('td')[1].get_text() == league] \n",
    "    links = [row.find_all('a')[-1] for row in rows]\n",
    "    links = [l.get('href') for l in links if l.get_text() == 'Match Report']\n",
    "    match_urls = [f\"https://fbref.com{l}\" for l in links]\n",
    "    return match_urls"
   ]
  },
  {
   "cell_type": "code",
   "execution_count": 16,
   "metadata": {},
   "outputs": [
    {
     "name": "stdout",
     "output_type": "stream",
     "text": [
      "209\n",
      "419\n",
      "619\n",
      "839\n",
      "1010\n"
     ]
    }
   ],
   "source": [
    "match_urls = []\n",
    "for standings_url, league in zip(standings_urls,leagues):\n",
    "    data = requests.get(standings_url) \n",
    "    soup = BeautifulSoup(data.text)\n",
    "    standings_table = soup.select('table.stats_table')[0]\n",
    "    links = standings_table.find_all('a')\n",
    "    links = [l.get(\"href\") for l in links]\n",
    "    links = [l for l in links if '/squads/' in l]\n",
    "    standing = pd.read_html(data.text, attrs={'class': 'stats_table'})[0]\n",
    "\n",
    "    team_urls = [f\"https://fbref.com{l}\" for l in links]\n",
    "    for i, (l, team_name) in enumerate((zip(team_urls, leagues[league]))):\n",
    "        if i == len(team_urls): \n",
    "            break     \n",
    "        d = requests.get(l)\n",
    "        soup_club = BeautifulSoup(d.text)\n",
    "        match_logs = soup_club.select('table.stats_table')[1]\n",
    "        all_rows = match_logs.select('tr')[1:]\n",
    "        match_urls.extend(get_match_url(all_rows, league))\n",
    "        count += 1\n",
    "    temp = match_urls\n",
    "    print(len(match_urls))"
   ]
  },
  {
   "cell_type": "code",
   "execution_count": 25,
   "metadata": {},
   "outputs": [
    {
     "name": "stdout",
     "output_type": "stream",
     "text": [
      "1010\n"
     ]
    }
   ],
   "source": [
    "print(len(match_urls))"
   ]
  },
  {
   "cell_type": "code",
   "execution_count": 24,
   "metadata": {},
   "outputs": [],
   "source": [
    "file = open(\"url.txt\", \"w\")\n",
    "for url in match_urls:\n",
    "    file.write(url+'\\n')"
   ]
  },
  {
   "cell_type": "code",
   "execution_count": null,
   "metadata": {},
   "outputs": [],
   "source": [
    "for url in match_urls:\n",
    "    data = requests.get(url)\n",
    "    soup = BeautifulSoup(data.text)\n",
    "    home, away = soup.select('table.stats_table')[1:6], soup.select('table.stats_table')[8:12]\n",
    "    "
   ]
  }
 ],
 "metadata": {
  "kernelspec": {
   "display_name": "Python 3",
   "language": "python",
   "name": "python3"
  },
  "language_info": {
   "codemirror_mode": {
    "name": "ipython",
    "version": 3
   },
   "file_extension": ".py",
   "mimetype": "text/x-python",
   "name": "python",
   "nbconvert_exporter": "python",
   "pygments_lexer": "ipython3",
   "version": "3.10.5"
  },
  "orig_nbformat": 4,
  "vscode": {
   "interpreter": {
    "hash": "26de051ba29f2982a8de78e945f0abaf191376122a1563185a90213a26c5da77"
   }
  }
 },
 "nbformat": 4,
 "nbformat_minor": 2
}
