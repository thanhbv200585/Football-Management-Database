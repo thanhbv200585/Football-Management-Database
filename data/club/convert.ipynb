{
 "cells": [
  {
   "cell_type": "code",
   "execution_count": 1,
   "metadata": {},
   "outputs": [],
   "source": [
    "import pandas as pd\n",
    "df = pd.read_excel(\"./club.xlsx\")\n",
    "df.head()\n",
    "df.to_csv(\"./club.csv\", index=False)"
   ]
  },
  {
   "cell_type": "code",
   "execution_count": 2,
   "metadata": {},
   "outputs": [],
   "source": [
    "df2 = pd.read_csv(\"./clubDB.csv\")"
   ]
  },
  {
   "cell_type": "code",
   "execution_count": 3,
   "metadata": {},
   "outputs": [
    {
     "name": "stdout",
     "output_type": "stream",
     "text": [
      "     1   Manchester Utd  ENG  1.1\n",
      "40  42      Real Madrid  ESP   42\n",
      "41  43  Atlético Madrid  ESP   43\n",
      "42  44            Betis  ESP   44\n",
      "43  45    Athletic Club  ESP   45\n",
      "44  46         Valencia  ESP   46\n",
      "45  47          Sevilla  ESP   47\n",
      "46  48         Espanyol  ESP   48\n",
      "47  49    Real Sociedad  ESP   49\n",
      "48  50            Elche  ESP   50\n",
      "49  51       Celta Vigo  ESP   51\n",
      "50  52       Valladolid  ESP   52\n",
      "51  53          Osasuna  ESP   53\n",
      "52  54       Villarreal  ESP   54\n",
      "53  55            Cádiz  ESP   55\n",
      "54  56         Mallorca  ESP   56\n",
      "55  57           Getafe  ESP   57\n",
      "56  58          Almería  ESP   58\n",
      "57  59   Rayo Vallecano  ESP   59\n",
      "58  60           Girona  ESP   60\n",
      "59  61        Marseille  FRA   61\n"
     ]
    }
   ],
   "source": [
    "print(df2[40:60])"
   ]
  }
 ],
 "metadata": {
  "kernelspec": {
   "display_name": "Python 3",
   "language": "python",
   "name": "python3"
  },
  "language_info": {
   "codemirror_mode": {
    "name": "ipython",
    "version": 3
   },
   "file_extension": ".py",
   "mimetype": "text/x-python",
   "name": "python",
   "nbconvert_exporter": "python",
   "pygments_lexer": "ipython3",
   "version": "3.10.5"
  },
  "orig_nbformat": 4,
  "vscode": {
   "interpreter": {
    "hash": "26de051ba29f2982a8de78e945f0abaf191376122a1563185a90213a26c5da77"
   }
  }
 },
 "nbformat": 4,
 "nbformat_minor": 2
}
